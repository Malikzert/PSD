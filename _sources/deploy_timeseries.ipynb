{
  "nbformat": 4,
  "nbformat_minor": 0,
  "metadata": {
    "colab": {
      "provenance": []
    },
    "kernelspec": {
      "name": "python3",
      "display_name": "Python 3"
    },
    "language_info": {
      "name": "python"
    }
  },
  "cells": [
    {
      "cell_type": "markdown",
      "source": [
        "# DEPLOYMENT SYSTEM TIMESERIES"
      ],
      "metadata": {
        "id": "PQzn8W5pQ4Vt"
      }
    },
    {
      "cell_type": "markdown",
      "source": [
        "#Mengambil dan membaca data NO2 sumenep\n",
        "\n",
        "Kode di bawah digunakan untuk membaca file CSV berisi data kadar NO₂ menggunakan pustaka pandas di Python. Pertama, path file didefinisikan dalam variabel DATA_PATH, kemudian fungsi pd.read_csv() digunakan untuk memuat data ke dalam sebuah DataFrame bernama df. Program menampilkan lima baris pertama dataset menggunakan df.head(), informasi struktur data (seperti jumlah kolom, tipe data, dan nilai non-null) dengan df.info(), serta ringkasan statistik deskriptif seperti rata-rata, standar deviasi, dan nilai maksimum menggunakan df.describe(). Blok try-except digunakan untuk menangani kemungkinan kesalahan seperti file tidak ditemukan atau format CSV yang tidak sesuai, sehingga program tidak langsung berhenti saat terjadi error."
      ],
      "metadata": {
        "id": "MP_Hqpn2RAvv"
      }
    },
    {
      "cell_type": "code",
      "execution_count": 2,
      "metadata": {
        "colab": {
          "base_uri": "https://localhost:8080/"
        },
        "id": "fx_2jJUeQz80",
        "outputId": "2ad34e1e-46ce-4744-e992-2e78f163935f"
      },
      "outputs": [
        {
          "output_type": "stream",
          "name": "stdout",
          "text": [
            "📊 Data Awal NO₂ Sumenep:\n",
            "                  time       NO2\n",
            "0  2023-10-15 00:00:00  0.000007\n",
            "1  2023-10-16 00:00:00  0.000013\n",
            "2  2023-10-17 00:00:00  0.000018\n",
            "3  2023-10-18 00:00:00  0.000014\n",
            "4  2023-10-19 00:00:00  0.000014\n",
            "\n",
            "🧭 Info Dataset:\n",
            "<class 'pandas.core.frame.DataFrame'>\n",
            "RangeIndex: 728 entries, 0 to 727\n",
            "Data columns (total 2 columns):\n",
            " #   Column  Non-Null Count  Dtype  \n",
            "---  ------  --------------  -----  \n",
            " 0   time    728 non-null    object \n",
            " 1   NO2     624 non-null    float64\n",
            "dtypes: float64(1), object(1)\n",
            "memory usage: 11.5+ KB\n",
            "None\n",
            "\n",
            "📈 Deskripsi Statistik:\n",
            "              NO2\n",
            "count  624.000000\n",
            "mean     0.000014\n",
            "std      0.000006\n",
            "min     -0.000017\n",
            "25%      0.000010\n",
            "50%      0.000013\n",
            "75%      0.000017\n",
            "max      0.000043\n"
          ]
        }
      ],
      "source": [
        "import pandas as pd\n",
        "\n",
        "# Path ke file CSV\n",
        "DATA_PATH = \"/content/NO2_Sumenep.csv\"\n",
        "\n",
        "try:\n",
        "    # Membaca data CSV\n",
        "    df = pd.read_csv(DATA_PATH)\n",
        "\n",
        "    # Tampilkan beberapa baris awal\n",
        "    print(\"📊 Data Awal NO₂ Sumenep:\")\n",
        "    print(df.head())\n",
        "\n",
        "    # Tampilkan informasi umum dataset\n",
        "    print(\"\\n🧭 Info Dataset:\")\n",
        "    print(df.info())\n",
        "\n",
        "    # Tampilkan statistik dasar\n",
        "    print(\"\\n📈 Deskripsi Statistik:\")\n",
        "    print(df.describe())\n",
        "\n",
        "except FileNotFoundError:\n",
        "    print(f\" File tidak ditemukan di path: {DATA_PATH}\")\n",
        "except Exception as e:\n",
        "    print(f\" Terjadi kesalahan saat membaca CSV: {e}\")\n"
      ]
    },
    {
      "cell_type": "markdown",
      "source": [
        "#Membuat prediksi model knn regressor\n",
        "Kode di bawah menggunakan algoritma K-Nearest Neighbors (KNN) untuk melakukan prediksi deret waktu (time series) kadar NO₂. Fungsi train_knn_model() bertugas melatih model KNN berdasarkan data latih (X_train dan y_train) dengan parameter n_neighbors yang menentukan jumlah tetangga terdekat yang digunakan dalam prediksi. Model menggunakan pembobotan weights='distance', yang berarti tetangga yang lebih dekat memiliki pengaruh lebih besar dalam menentukan hasil prediksi. Setelah pelatihan, model siap digunakan untuk memprediksi nilai di luar data latih (future forecasting).\n",
        "\n",
        "Fungsi forecast_next_days() digunakan untuk memprediksi nilai NO₂ beberapa hari ke depan (n_future). Proses dimulai dengan mengambil data input terakhir dari X_test, kemudian secara iteratif memprediksi nilai berikutnya dan memperbarui input untuk prediksi selanjutnya dengan cara menggeser (np.roll) dan menambahkan nilai prediksi terbaru di posisi terakhir. Hasil prediksi disimpan dalam future_preds, lalu dibuat DataFrame forecast_df yang berisi tanggal-tanggal masa depan (future_dates) serta nilai prediksi NO₂ yang sesuai. Dengan demikian, fungsi ini menghasilkan output yang siap digunakan untuk analisis atau visualisasi tren polutan di masa depan."
      ],
      "metadata": {
        "id": "cz_7zoKLT-IS"
      }
    },
    {
      "cell_type": "code",
      "source": [
        "from sklearn import neighbors\n",
        "import pandas as pd\n",
        "import numpy as np\n",
        "\n",
        "def train_knn_model(X_train, y_train, n_neighbors=5):\n",
        "    model = neighbors.KNeighborsRegressor(n_neighbors=n_neighbors, weights='distance')\n",
        "    model.fit(X_train, y_train)\n",
        "    return model\n",
        "\n",
        "def forecast_next_days(model, X_test, df, scaler, n_future):\n",
        "    last_input = X_test[-1, :].reshape(1, -1)\n",
        "    future_preds = []\n",
        "\n",
        "    for _ in range(n_future):\n",
        "        next_pred = model.predict(last_input)[0]\n",
        "        future_preds.append(next_pred)\n",
        "        last_input = np.roll(last_input, -1)\n",
        "        last_input[0, -1] = next_pred\n",
        "\n",
        "    future_dates = pd.date_range(df.index[-1] + pd.Timedelta(days=1), periods=n_future)\n",
        "    forecast_df = pd.DataFrame({\"Tanggal\": future_dates, \"Prediksi_NO2\": np.array(future_preds)})\n",
        "    return forecast_df\n"
      ],
      "metadata": {
        "id": "8ofeHtWsUXc1"
      },
      "execution_count": null,
      "outputs": []
    },
    {
      "cell_type": "markdown",
      "source": [
        "#Pemrosesan dan Pembentukan Data\n",
        "Kode di bawah berfungsi untuk mempersiapkan data deret waktu (time series) kadar NO₂ agar siap digunakan dalam pemodelan. Fungsi load_and_prepare_data() bertugas membaca file CSV yang berisi data pengukuran NO₂ dengan kolom waktu (time) dan nilai kadar NO₂ (NO2). Kolom waktu dikonversi menjadi tipe datetime agar bisa digunakan sebagai indeks deret waktu, kemudian dilakukan interpolasi dengan metode waktu (interpolate(method='time')) untuk mengisi nilai yang hilang berdasarkan tren waktu. Langkah ini memastikan bahwa data memiliki urutan kronologis yang konsisten dan bebas dari nilai kosong yang bisa mengganggu pelatihan model.\n",
        "\n",
        "Fungsi create_supervised_data() digunakan untuk mengubah data deret waktu menjadi bentuk supervised learning, yaitu dengan membuat sejumlah fitur lag (NO2(t-1), NO2(t-2), dan seterusnya) sebagai input untuk memprediksi nilai NO2(t) di hari berikutnya. Data kemudian dibagi menjadi data latih (70%) dan data uji (30%) untuk evaluasi model. Sebelum digunakan dalam algoritma KNN, seluruh fitur diubah ke dalam rentang [0, 1] menggunakan MinMaxScaler, agar setiap variabel memiliki skala yang seimbang dan model dapat belajar lebih efektif. Hasil akhirnya adalah data latih dan uji yang telah ditransformasi, siap untuk digunakan dalam proses pelatihan model prediksi.\n"
      ],
      "metadata": {
        "id": "EreiNWCVUY3A"
      }
    },
    {
      "cell_type": "code",
      "source": [
        "import pandas as pd\n",
        "from sklearn.preprocessing import MinMaxScaler\n",
        "\n",
        "def load_and_prepare_data(path):\n",
        "    df = pd.read_csv(path)\n",
        "    df['time'] = pd.to_datetime(df['time'], errors='coerce')\n",
        "    df = df.set_index('time')\n",
        "    df['NO2'] = df['NO2'].interpolate(method='time')\n",
        "    return df\n",
        "\n",
        "def create_supervised_data(df, n_lags):\n",
        "    supervised = pd.DataFrame()\n",
        "    for i in range(n_lags, 0, -1):\n",
        "        supervised[f'NO2(t-{i})'] = df['NO2'].shift(i)\n",
        "    supervised['NO2(t)'] = df['NO2']\n",
        "    supervised = supervised.dropna()\n",
        "\n",
        "    X = supervised.drop('NO2(t)', axis=1)\n",
        "    y = supervised['NO2(t)']\n",
        "\n",
        "    split_idx = int(len(X) * 0.7)\n",
        "    X_train, X_test = X.iloc[:split_idx], X.iloc[split_idx:]\n",
        "    y_train, y_test = y.iloc[:split_idx], y.iloc[split_idx:]\n",
        "\n",
        "    scaler = MinMaxScaler(feature_range=(0, 1))\n",
        "    X_train_scaled = scaler.fit_transform(X_train)\n",
        "    X_test_scaled = scaler.transform(X_test)\n",
        "\n",
        "    return X_train_scaled, X_test_scaled, y_train, y_test, scaler\n"
      ],
      "metadata": {
        "id": "zN7JtDYzUpTc"
      },
      "execution_count": null,
      "outputs": []
    },
    {
      "cell_type": "markdown",
      "source": [
        "#Fungsi Forecasting pada Time Series\n",
        "Kode di bawah berfungsi untuk menghasilkan prediksi kadar NO₂ untuk beberapa hari ke depan menggunakan model time series berbasis KNN. Fungsi forecast_next_days() memulai proses dengan mengambil data input terakhir (last_input) dari data uji (X_test) sebagai kondisi awal prediksi. Model kemudian digunakan secara iteratif untuk memprediksi satu nilai di masa depan, menambahkannya ke daftar hasil (preds), dan memperbarui jendela input menggunakan pendekatan sliding window — di mana nilai prediksi terbaru menggantikan nilai lag tertua. Proses ini diulang sebanyak jumlah hari yang ingin diprediksi (n_future), sehingga diperoleh serangkaian nilai prediksi jangka pendek ke depan.\n",
        "\n",
        "Setelah semua prediksi diperoleh, hasilnya perlu dikembalikan ke skala asli karena sebelumnya data telah dinormalisasi. Oleh karena itu, dilakukan inverse transform menggunakan nilai minimum dan maksimum dari objek MinMaxScaler. Nilai-nilai prediksi kemudian disusun menjadi sebuah DataFrame berisi kolom tanggal (Tanggal) dan hasil prediksi (Prediksi_NO2). Tanggal-tanggal tersebut dihasilkan secara otomatis berdasarkan tanggal terakhir pada dataset historis dengan frekuensi harian. Hasil akhirnya berupa tabel berisi tanggal-tanggal masa depan beserta kadar NO₂ yang diprediksi, yang dapat digunakan untuk visualisasi tren atau analisis lanjutan."
      ],
      "metadata": {
        "id": "pvcwBwT_Uusj"
      }
    },
    {
      "cell_type": "code",
      "source": [
        "# utils/forecast_utils.py\n",
        "import numpy as np\n",
        "import pandas as pd\n",
        "\n",
        "def forecast_next_days(model, X_test, df, scaler, n_future):\n",
        "    \"\"\"\n",
        "    Membuat prediksi untuk n hari ke depan menggunakan model time series.\n",
        "    \"\"\"\n",
        "    last_input = X_test[-1].reshape(1, -1)\n",
        "    preds = []\n",
        "\n",
        "    for _ in range(n_future):\n",
        "        pred = model.predict(last_input)\n",
        "        pred_value = pred[0] if pred.ndim == 1 else pred[0, 0]\n",
        "        preds.append(pred_value)\n",
        "\n",
        "        # sliding window\n",
        "        new_input = np.append(last_input[:, 1:], pred_value).reshape(1, -1)\n",
        "        last_input = new_input\n",
        "\n",
        "    # --- inverse transform hanya kolom target (NO2) ---\n",
        "    min_val = scaler.data_min_[-1]  # ambil min dari kolom target\n",
        "    max_val = scaler.data_max_[-1]  # ambil max dari kolom target\n",
        "\n",
        "    preds_rescaled = [p * (max_val - min_val) + min_val for p in preds]\n",
        "\n",
        "    # buat DataFrame hasil forecast (kolom disesuaikan dengan plot_utils)\n",
        "    last_date = df.index[-1]\n",
        "    forecast_dates = pd.date_range(last_date, periods=n_future + 1, freq='D')[1:]\n",
        "    forecast_df = pd.DataFrame({\n",
        "        'Tanggal': forecast_dates,\n",
        "        'Prediksi_NO2': preds_rescaled\n",
        "    })\n",
        "\n",
        "    return forecast_df\n"
      ],
      "metadata": {
        "id": "ghbi7GGkWuOn"
      },
      "execution_count": null,
      "outputs": []
    },
    {
      "cell_type": "markdown",
      "source": [
        "#Evaluasi Model (Metrics Utils)\n",
        "Kode di bawah berfungsi untuk mengevaluasi kinerja model regresi time series, khususnya model KNN, dengan menghitung berbagai metrik statistik. Fungsi evaluate_model() menerima tiga parameter utama: model yang telah dilatih (model), data uji (X_test), dan nilai aktual (y_test). Fungsi ini kemudian menghasilkan prediksi (y_pred) dengan memanggil metode .predict() dari model. Setelah prediksi diperoleh, tiga metrik utama digunakan untuk mengukur performa model, yaitu Root Mean Squared Error (RMSE), R-squared (R²), dan Mean Absolute Percentage Error (MAPE).\n",
        "\n",
        "RMSE digunakan untuk mengukur seberapa besar kesalahan rata-rata dalam satuan yang sama dengan data aslinya, di mana nilai yang lebih kecil menunjukkan hasil prediksi yang lebih akurat. R² mengukur seberapa baik model mampu menjelaskan variabilitas data aktual — nilai mendekati 1 berarti model sangat baik dalam menjelaskan data. Sementara itu, MAPE menampilkan kesalahan rata-rata dalam bentuk persentase, memudahkan interpretasi terhadap seberapa besar deviasi prediksi terhadap nilai aktual. Hasil akhir fungsi ini mengembalikan keempat nilai tersebut (y_pred, rmse, r2, mape) yang kemudian dapat digunakan untuk pelaporan, perbandingan model, atau analisis performa prediksi."
      ],
      "metadata": {
        "id": "YjRLFJKaWw7L"
      }
    },
    {
      "cell_type": "code",
      "source": [
        "from sklearn.metrics import mean_squared_error, r2_score, mean_absolute_percentage_error\n",
        "import numpy as np\n",
        "\n",
        "def evaluate_model(model, X_test, y_test):\n",
        "    y_pred = model.predict(X_test)\n",
        "    rmse = np.sqrt(mean_squared_error(y_test, y_pred))\n",
        "    r2 = r2_score(y_test, y_pred)\n",
        "    mape = mean_absolute_percentage_error(y_test, y_pred) * 100\n",
        "    return y_pred, rmse, r2, mape\n"
      ],
      "metadata": {
        "id": "orQAhn4hWva5"
      },
      "execution_count": null,
      "outputs": []
    },
    {
      "cell_type": "markdown",
      "source": [
        "#Visualisasi Hasil Prediksi (Plot Utils)\n",
        "Kode di bawah berisi tiga fungsi utama untuk visualisasi hasil prediksi model KNN pada data time series NO₂. Fungsi plot_actual_vs_pred() digunakan untuk membandingkan antara nilai aktual (y_test) dan hasil prediksi (y_pred) dari model. Grafik ini menampilkan dua garis dengan warna berbeda untuk menunjukkan seberapa baik model mengikuti pola data asli. Parameter k menunjukkan jumlah tetangga (neighbors) pada algoritma KNN, yang ditampilkan dalam judul grafik agar hasil dapat lebih mudah dianalisis dan dibandingkan.\n",
        "\n",
        "Selanjutnya, fungsi plot_forecast() menampilkan grafik prediksi ke depan (forecasting) berdasarkan data historis dan hasil peramalan beberapa hari berikutnya. Data historis divisualisasikan sebagai garis abu-abu, sedangkan hasil prediksi ditunjukkan dengan garis merah berbentuk titik-titik untuk membedakan masa depan dari data sebelumnya. Fungsi terakhir, plot_residual_acf(), digunakan untuk menganalisis autokorelasi residual, yaitu selisih antara nilai aktual dan prediksi. Dengan menggunakan fungsi plot_acf() dari statsmodels, grafik ini membantu mengevaluasi apakah masih ada pola dalam residual — jika tidak, berarti model sudah cukup baik dalam menangkap pola data. Ketiga fungsi ini sangat penting untuk memvalidasi dan mempresentasikan performa model secara visual."
      ],
      "metadata": {
        "id": "frgtQV1lY09N"
      }
    },
    {
      "cell_type": "code",
      "source": [
        "import matplotlib.pyplot as plt\n",
        "from statsmodels.graphics.tsaplots import plot_acf\n",
        "\n",
        "def plot_actual_vs_pred(y_test, y_pred, k):\n",
        "    fig, ax = plt.subplots(figsize=(10, 5))\n",
        "    ax.plot(y_test.index, y_test, label='Aktual', color='darkorange')\n",
        "    ax.plot(y_test.index, y_pred, label='Prediksi', color='navy')\n",
        "    ax.set_title(f\"KNN Forecasting NO₂ (K={k})\")\n",
        "    ax.set_xlabel(\"Tanggal\")\n",
        "    ax.set_ylabel(\"Kadar NO₂\")\n",
        "    ax.legend()\n",
        "    return fig\n",
        "\n",
        "def plot_forecast(df, forecast_df):\n",
        "    fig, ax = plt.subplots(figsize=(10, 4))\n",
        "    ax.plot(df.index, df['NO2'], label=\"Data Historis\", color='gray')\n",
        "    ax.plot(forecast_df['Tanggal'], forecast_df['Prediksi_NO2'], 'ro-', label=\"Prediksi NO₂\")\n",
        "    ax.set_title(\"Prediksi NO₂ Beberapa Hari ke Depan\")\n",
        "    ax.legend()\n",
        "    return fig\n",
        "\n",
        "def plot_residual_acf(y_test, y_pred):\n",
        "    residuals = y_test - y_pred\n",
        "    fig, ax = plt.subplots(figsize=(8, 3))\n",
        "    plot_acf(residuals, lags=20, ax=ax)\n",
        "    ax.set_title(\"Autokorelasi Residual\")\n",
        "    return fig\n"
      ],
      "metadata": {
        "id": "o7mondeHY1fq"
      },
      "execution_count": null,
      "outputs": []
    },
    {
      "cell_type": "markdown",
      "source": [
        "#Aplikasi Streamlit untuk Prediksi NO₂ Sumenep Menggunakan KNN Time Series\n",
        "Kode di bawah merupakan aplikasi Streamlit interaktif yang digunakan untuk memprediksi kadar gas NO₂ (Nitrogen Dioksida) di wilayah Sumenep menggunakan metode K-Nearest Neighbors (KNN) berbasis time series forecasting. Aplikasi ini membaca data dari file NO2_Sumenep.csv, memprosesnya menjadi format terstruktur menggunakan fungsi load_and_prepare_data(), dan menampilkan grafik historis kadar NO₂. Pengguna dapat mengatur parameter model secara dinamis melalui sidebar, seperti jumlah lag (hari sebelumnya yang digunakan sebagai input), jumlah tetangga (neighbors), dan jumlah hari ke depan yang ingin diprediksi.\n",
        "\n",
        "Setelah data dipersiapkan dan model KNN dilatih, aplikasi menampilkan hasil evaluasi performa model melalui metrik seperti RMSE (Root Mean Square Error), R² (Koefisien Determinasi), dan MAPE (Mean Absolute Percentage Error). Hasil prediksi divisualisasikan dalam grafik yang membandingkan data aktual dengan hasil prediksi serta proyeksi kadar NO₂ untuk beberapa hari ke depan. Selain itu, disediakan juga analisis autokorelasi residual untuk menilai kualitas model. Pengguna dapat mengunduh hasil prediksi dalam format CSV langsung dari antarmuka. Dengan desain modular dan antarmuka interaktif, aplikasi ini sangat membantu dalam eksplorasi, analisis, serta pemantauan kualitas udara secara prediktif."
      ],
      "metadata": {
        "id": "hkBPS1o2ZQ0h"
      }
    },
    {
      "cell_type": "code",
      "source": [
        "import sys, os\n",
        "sys.path.append(os.path.dirname(__file__))\n",
        "\n",
        "import streamlit as st\n",
        "import pandas as pd\n",
        "from statsmodels.graphics.tsaplots import plot_acf\n",
        "\n",
        "from utils.data_utils import load_and_prepare_data, create_supervised_data\n",
        "from utils.plot_utils import plot_actual_vs_pred, plot_forecast, plot_residual_acf\n",
        "from utils.metrics_utils import evaluate_model\n",
        "from utils.forecast_utils import forecast_next_days\n",
        "from models.knn_model import train_knn_model\n",
        "\n",
        "\n",
        "# --- Konfigurasi Tampilan ---\n",
        "st.set_page_config(page_title=\"Prediksi NO₂ Sumenep\", layout=\"wide\")\n",
        "st.title(\"🌫️ Prediksi Kadar NO₂ Sumenep Menggunakan KNN Time Series\")\n",
        "\n",
        "# --- Baca dataset lokal ---\n",
        "DATA_PATH = r\"data\\NO2_Sumenep.csv\"\n",
        "\n",
        "try:\n",
        "    df = load_and_prepare_data(DATA_PATH)\n",
        "except Exception as e:\n",
        "    st.error(f\"Gagal membaca dataset: {e}\")\n",
        "    st.stop()\n",
        "\n",
        "# --- Tampilkan data awal ---\n",
        "st.subheader(\"📈 Data Historis NO₂\")\n",
        "st.line_chart(df['NO2'])\n",
        "\n",
        "# --- Sidebar pengaturan model ---\n",
        "st.sidebar.header(\"⚙️ Pengaturan Model\")\n",
        "n_lags = st.sidebar.slider(\"Jumlah Lag Hari Sebelumnya\", 3, 14, 7)\n",
        "n_neighbors = st.sidebar.slider(\"Jumlah Tetangga (K)\", 2, 15, 5)\n",
        "n_future = st.sidebar.slider(\"Hari Prediksi ke Depan\", 1, 14, 7)\n",
        "\n",
        "# --- Persiapan data supervised ---\n",
        "X_train, X_test, y_train, y_test, scaler = create_supervised_data(df, n_lags)\n",
        "\n",
        "# --- Training model KNN ---\n",
        "model = train_knn_model(X_train, y_train, n_neighbors)\n",
        "\n",
        "# --- Evaluasi model ---\n",
        "y_pred, rmse, r2, mape = evaluate_model(model, X_test, y_test)\n",
        "\n",
        "st.subheader(\"📊 Evaluasi Model\")\n",
        "st.write(f\"**RMSE:** {rmse:.6f}\")\n",
        "st.write(f\"**R²:** {r2:.4f}\")\n",
        "st.write(f\"**MAPE:** {mape:.2f}%\")\n",
        "\n",
        "st.pyplot(plot_actual_vs_pred(y_test, y_pred, n_neighbors))\n",
        "\n",
        "# --- Prediksi ke depan ---\n",
        "st.subheader(f\"🔮 Prediksi {n_future} Hari ke Depan\")\n",
        "forecast_df = forecast_next_days(model, X_test, df, scaler, n_future)\n",
        "st.dataframe(forecast_df)\n",
        "st.pyplot(plot_forecast(df, forecast_df))\n",
        "\n",
        "# --- Analisis residual ---\n",
        "st.subheader(\"🔍 Analisis Autokorelasi Residual\")\n",
        "st.pyplot(plot_residual_acf(y_test, y_pred))\n",
        "\n",
        "# --- Tombol unduh hasil ---\n",
        "csv = forecast_df.to_csv(index=False).encode('utf-8')\n",
        "st.download_button(\"⬇️ Unduh Hasil Prediksi (CSV)\", csv, \"forecast_no2.csv\", \"text/csv\")\n"
      ],
      "metadata": {
        "id": "c7YK6YVcZRIu"
      },
      "execution_count": null,
      "outputs": []
    }
  ]
}